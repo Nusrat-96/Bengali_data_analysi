{
 "cells": [
  {
   "cell_type": "code",
   "execution_count": 1,
   "id": "8ca0a952",
   "metadata": {},
   "outputs": [],
   "source": [
    "import pandas as pd \n",
    "import glob"
   ]
  },
  {
   "cell_type": "code",
   "execution_count": 2,
   "id": "b4e443f4",
   "metadata": {},
   "outputs": [],
   "source": [
    "df = pd.read_csv(\"choto_vai_dataset.csv\")"
   ]
  },
  {
   "cell_type": "code",
   "execution_count": 3,
   "id": "a460bf32",
   "metadata": {},
   "outputs": [
    {
     "data": {
      "text/html": [
       "<div>\n",
       "<style scoped>\n",
       "    .dataframe tbody tr th:only-of-type {\n",
       "        vertical-align: middle;\n",
       "    }\n",
       "\n",
       "    .dataframe tbody tr th {\n",
       "        vertical-align: top;\n",
       "    }\n",
       "\n",
       "    .dataframe thead th {\n",
       "        text-align: right;\n",
       "    }\n",
       "</style>\n",
       "<table border=\"1\" class=\"dataframe\">\n",
       "  <thead>\n",
       "    <tr style=\"text-align: right;\">\n",
       "      <th></th>\n",
       "      <th>Username</th>\n",
       "      <th>Verified</th>\n",
       "      <th>Comment Text</th>\n",
       "      <th>Likes</th>\n",
       "      <th>Time</th>\n",
       "      <th>Replies</th>\n",
       "      <th>Translation</th>\n",
       "      <th>Offensive?</th>\n",
       "    </tr>\n",
       "  </thead>\n",
       "  <tbody>\n",
       "    <tr>\n",
       "      <th>0</th>\n",
       "      <td>exotic_somrat</td>\n",
       "      <td>False</td>\n",
       "      <td>🤩</td>\n",
       "      <td>4</td>\n",
       "      <td>4d</td>\n",
       "      <td>0</td>\n",
       "      <td>False</td>\n",
       "      <td>False</td>\n",
       "    </tr>\n",
       "    <tr>\n",
       "      <th>1</th>\n",
       "      <td>saikatluv.0</td>\n",
       "      <td>False</td>\n",
       "      <td>Not married yet? I already said congratulation...</td>\n",
       "      <td>5</td>\n",
       "      <td>4d</td>\n",
       "      <td>0</td>\n",
       "      <td>False</td>\n",
       "      <td>False</td>\n",
       "    </tr>\n",
       "    <tr>\n",
       "      <th>2</th>\n",
       "      <td>loser_failure1</td>\n",
       "      <td>False</td>\n",
       "      <td>Bro hoise r ki lukaba biye koirai falao ki ar ...</td>\n",
       "      <td>52</td>\n",
       "      <td>4d</td>\n",
       "      <td>0</td>\n",
       "      <td>True</td>\n",
       "      <td>False</td>\n",
       "    </tr>\n",
       "    <tr>\n",
       "      <th>3</th>\n",
       "      <td>akash_17b</td>\n",
       "      <td>False</td>\n",
       "      <td>Matching Matching 🎀</td>\n",
       "      <td>5</td>\n",
       "      <td>4d</td>\n",
       "      <td>0</td>\n",
       "      <td>False</td>\n",
       "      <td>False</td>\n",
       "    </tr>\n",
       "    <tr>\n",
       "      <th>4</th>\n",
       "      <td>shahriar_sadi09</td>\n",
       "      <td>False</td>\n",
       "      <td>Our thoughts….....  more</td>\n",
       "      <td>62</td>\n",
       "      <td>4d</td>\n",
       "      <td>0</td>\n",
       "      <td>False</td>\n",
       "      <td>False</td>\n",
       "    </tr>\n",
       "  </tbody>\n",
       "</table>\n",
       "</div>"
      ],
      "text/plain": [
       "          Username  Verified  \\\n",
       "0    exotic_somrat     False   \n",
       "1      saikatluv.0     False   \n",
       "2   loser_failure1     False   \n",
       "3        akash_17b     False   \n",
       "4  shahriar_sadi09     False   \n",
       "\n",
       "                                        Comment Text  Likes Time  Replies  \\\n",
       "0                                                  🤩      4   4d        0   \n",
       "1  Not married yet? I already said congratulation...      5   4d        0   \n",
       "2  Bro hoise r ki lukaba biye koirai falao ki ar ...     52   4d        0   \n",
       "3                                Matching Matching 🎀      5   4d        0   \n",
       "4                           Our thoughts….....  more     62   4d        0   \n",
       "\n",
       "   Translation  Offensive?  \n",
       "0        False       False  \n",
       "1        False       False  \n",
       "2         True       False  \n",
       "3        False       False  \n",
       "4        False       False  "
      ]
     },
     "execution_count": 3,
     "metadata": {},
     "output_type": "execute_result"
    }
   ],
   "source": [
    "df.head(5)"
   ]
  },
  {
   "cell_type": "code",
   "execution_count": 6,
   "id": "5fe88f96",
   "metadata": {},
   "outputs": [
    {
     "data": {
      "text/html": [
       "<div>\n",
       "<style scoped>\n",
       "    .dataframe tbody tr th:only-of-type {\n",
       "        vertical-align: middle;\n",
       "    }\n",
       "\n",
       "    .dataframe tbody tr th {\n",
       "        vertical-align: top;\n",
       "    }\n",
       "\n",
       "    .dataframe thead th {\n",
       "        text-align: right;\n",
       "    }\n",
       "</style>\n",
       "<table border=\"1\" class=\"dataframe\">\n",
       "  <thead>\n",
       "    <tr style=\"text-align: right;\">\n",
       "      <th></th>\n",
       "      <th>Comment Text</th>\n",
       "      <th>Likes</th>\n",
       "      <th>Replies</th>\n",
       "      <th>Translation</th>\n",
       "      <th>Offensive?</th>\n",
       "    </tr>\n",
       "  </thead>\n",
       "  <tbody>\n",
       "    <tr>\n",
       "      <th>0</th>\n",
       "      <td>🤩</td>\n",
       "      <td>4</td>\n",
       "      <td>0</td>\n",
       "      <td>False</td>\n",
       "      <td>False</td>\n",
       "    </tr>\n",
       "    <tr>\n",
       "      <th>1</th>\n",
       "      <td>Not married yet? I already said congratulation...</td>\n",
       "      <td>5</td>\n",
       "      <td>0</td>\n",
       "      <td>False</td>\n",
       "      <td>False</td>\n",
       "    </tr>\n",
       "    <tr>\n",
       "      <th>2</th>\n",
       "      <td>Bro hoise r ki lukaba biye koirai falao ki ar ...</td>\n",
       "      <td>52</td>\n",
       "      <td>0</td>\n",
       "      <td>True</td>\n",
       "      <td>False</td>\n",
       "    </tr>\n",
       "    <tr>\n",
       "      <th>3</th>\n",
       "      <td>Matching Matching 🎀</td>\n",
       "      <td>5</td>\n",
       "      <td>0</td>\n",
       "      <td>False</td>\n",
       "      <td>False</td>\n",
       "    </tr>\n",
       "    <tr>\n",
       "      <th>4</th>\n",
       "      <td>Our thoughts….....  more</td>\n",
       "      <td>62</td>\n",
       "      <td>0</td>\n",
       "      <td>False</td>\n",
       "      <td>False</td>\n",
       "    </tr>\n",
       "  </tbody>\n",
       "</table>\n",
       "</div>"
      ],
      "text/plain": [
       "                                        Comment Text  Likes  Replies  \\\n",
       "0                                                  🤩      4        0   \n",
       "1  Not married yet? I already said congratulation...      5        0   \n",
       "2  Bro hoise r ki lukaba biye koirai falao ki ar ...     52        0   \n",
       "3                                Matching Matching 🎀      5        0   \n",
       "4                           Our thoughts….....  more     62        0   \n",
       "\n",
       "   Translation  Offensive?  \n",
       "0        False       False  \n",
       "1        False       False  \n",
       "2         True       False  \n",
       "3        False       False  \n",
       "4        False       False  "
      ]
     },
     "execution_count": 6,
     "metadata": {},
     "output_type": "execute_result"
    }
   ],
   "source": [
    "drop_column = [\"Username\", \"Verified\", \"Time\"]\n",
    "df = df.drop(drop_column, axis =1)\n",
    "df.head(5)"
   ]
  },
  {
   "cell_type": "code",
   "execution_count": 7,
   "id": "21f86365",
   "metadata": {},
   "outputs": [],
   "source": [
    "df.to_csv(\"onlyC_choto_vai_dataset.csv\")"
   ]
  },
  {
   "cell_type": "code",
   "execution_count": 9,
   "id": "b52611e6",
   "metadata": {},
   "outputs": [
    {
     "name": "stdout",
     "output_type": "stream",
     "text": [
      "Offensive?\n",
      "False    2532\n",
      "True       40\n",
      "Name: count, dtype: int64\n"
     ]
    }
   ],
   "source": [
    "\n",
    "counts = df['Offensive?'].value_counts()\n",
    "print(counts)"
   ]
  },
  {
   "cell_type": "code",
   "execution_count": 11,
   "id": "d9d83c8e",
   "metadata": {},
   "outputs": [
    {
     "data": {
      "text/plain": [
       "Translation\n",
       "False    2199\n",
       "True      373\n",
       "Name: count, dtype: int64"
      ]
     },
     "execution_count": 11,
     "metadata": {},
     "output_type": "execute_result"
    }
   ],
   "source": [
    "Count_trans = df[\"Translation\"].value_counts()\n",
    "Count_trans"
   ]
  },
  {
   "cell_type": "code",
   "execution_count": 12,
   "id": "1aaecc2c",
   "metadata": {},
   "outputs": [
    {
     "data": {
      "text/plain": [
       "5"
      ]
     },
     "execution_count": 12,
     "metadata": {},
     "output_type": "execute_result"
    }
   ],
   "source": [
    "count_trans_offensive = len(df[(df[\"Translation\"] == True) & (df[\"Offensive?\"] == True)])\n",
    "count_trans_offensive"
   ]
  },
  {
   "cell_type": "code",
   "execution_count": 14,
   "id": "2e75950d",
   "metadata": {},
   "outputs": [
    {
     "name": "stdout",
     "output_type": "stream",
     "text": [
      "                                           Comment Text  Likes  Replies  \\\n",
      "1511              আমার গুলুমলু ভাইটাও বড় হয়ে গেছে ❤️😎      0        0   \n",
      "1690  সেই সময়ের বিদ্যুৎ প্রতিমন্ত্রির সাথে ভিডিওগুলা...      0        0   \n",
      "1744                         আপনাকে আগে বোকাচোদা লাগতো😅      0        0   \n",
      "1941  আমার বড় ছেলে সেই সময় থেকে যখন গুল্লু মুল্লু ছি...      0        0   \n",
      "2044         Damn! Btw ami jantam na apni mota chilen 😆      0        0   \n",
      "\n",
      "      Translation  Offensive?  \n",
      "1511         True        True  \n",
      "1690         True        True  \n",
      "1744         True        True  \n",
      "1941         True        True  \n",
      "2044         True        True  \n"
     ]
    }
   ],
   "source": [
    "df_trans_offensive = df[(df[\"Translation\"] == True) & (df[\"Offensive?\"] == True)]\n",
    "print(df_trans_offensive)"
   ]
  },
  {
   "cell_type": "code",
   "execution_count": null,
   "id": "a02b3472",
   "metadata": {},
   "outputs": [],
   "source": []
  }
 ],
 "metadata": {
  "kernelspec": {
   "display_name": "A_venv",
   "language": "python",
   "name": "python3"
  },
  "language_info": {
   "codemirror_mode": {
    "name": "ipython",
    "version": 3
   },
   "file_extension": ".py",
   "mimetype": "text/x-python",
   "name": "python",
   "nbconvert_exporter": "python",
   "pygments_lexer": "ipython3",
   "version": "3.12.3"
  }
 },
 "nbformat": 4,
 "nbformat_minor": 5
}
